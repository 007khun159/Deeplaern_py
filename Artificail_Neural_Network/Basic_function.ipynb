{
  "nbformat": 4,
  "nbformat_minor": 0,
  "metadata": {
    "colab": {
      "provenance": [],
      "collapsed_sections": [],
      "authorship_tag": "ABX9TyOENtlm2Xx03ibtrs5/7tP9",
      "include_colab_link": true
    },
    "kernelspec": {
      "name": "python3",
      "display_name": "Python 3"
    },
    "language_info": {
      "name": "python"
    }
  },
  "cells": [
    {
      "cell_type": "markdown",
      "metadata": {
        "id": "view-in-github",
        "colab_type": "text"
      },
      "source": [
        "<a href=\"https://colab.research.google.com/github/007khun159/Deeplaern_py/blob/main/Artificail_Neural_Network/Basic_function.ipynb\" target=\"_parent\"><img src=\"https://colab.research.google.com/assets/colab-badge.svg\" alt=\"Open In Colab\"/></a>"
      ]
    },
    {
      "cell_type": "code",
      "execution_count": null,
      "metadata": {
        "id": "pTpBJzjKLsnv"
      },
      "outputs": [],
      "source": [
        "#Workshop 1 Perceptron Easy \n",
        "\n",
        "#สูตร s = w0 + (w1*x1)+(w2*x2)....+(wn*xn)\n",
        "\n"
      ]
    }
  ]
}