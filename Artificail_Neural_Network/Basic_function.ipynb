{
  "nbformat": 4,
  "nbformat_minor": 0,
  "metadata": {
    "colab": {
      "provenance": [],
      "collapsed_sections": [],
      "authorship_tag": "ABX9TyMdLdXq4LpX3+Nu94D8VJUZ",
      "include_colab_link": true
    },
    "kernelspec": {
      "name": "python3",
      "display_name": "Python 3"
    },
    "language_info": {
      "name": "python"
    }
  },
  "cells": [
    {
      "cell_type": "markdown",
      "metadata": {
        "id": "view-in-github",
        "colab_type": "text"
      },
      "source": [
        "<a href=\"https://colab.research.google.com/github/007khun159/Deeplaern_py/blob/main/Artificail_Neural_Network/Basic_function.ipynb\" target=\"_parent\"><img src=\"https://colab.research.google.com/assets/colab-badge.svg\" alt=\"Open In Colab\"/></a>"
      ]
    },
    {
      "cell_type": "code",
      "execution_count": 2,
      "metadata": {
        "colab": {
          "base_uri": "https://localhost:8080/"
        },
        "id": "pTpBJzjKLsnv",
        "outputId": "fb6dfc44-1a6f-4d5e-f495-972ea1ec76c9"
      },
      "outputs": [
        {
          "output_type": "stream",
          "name": "stdout",
          "text": [
            "[0.5]\n"
          ]
        }
      ],
      "source": [
        "#Workshop 1 Perceptron Easy \n",
        "\n",
        "#สูตร s = w0 + (w1*x1)+(w2*x2)....+(wn*xn)\n",
        "\n",
        "# w0 = Bias\n",
        "import numpy as np\n",
        "\n",
        "w0 = -0.5\n",
        "x = [[1],\n",
        "     [1]]\n",
        "w= [0.5,0.5]\n",
        "w =np.array(w)\n",
        "x = np.array(x)\n",
        "\n",
        "s= w0 + np.dot(w,x)\n",
        "print(s)\n"
      ]
    },
    {
      "cell_type": "code",
      "source": [
        "#Backprogation  \n",
        "#เป็นการทดลองค่าหลายครั้งๆเพื่่อให้ได้ผลลัพธ์ที่ต้องการ"
      ],
      "metadata": {
        "id": "PiRtHqolMzWL"
      },
      "execution_count": null,
      "outputs": []
    },
    {
      "cell_type": "code",
      "source": [
        "#Workshop2  AND Gate Neroun easy\n",
        "\n",
        "#แนะนำให้กลับไปทบทวนตรรกะศาสตร์"
      ],
      "metadata": {
        "id": "8PCOEZfENEjI"
      },
      "execution_count": 3,
      "outputs": []
    },
    {
      "cell_type": "code",
      "source": [
        "#Workshop3 AND Gate Neuron by Python\n",
        "\n",
        "\n",
        "def and_gate(x1,x2):\n",
        "  w0 = -0.5 # bias\n",
        "  w1 = 0.5  # weight\n",
        "  w2  = 0.5\n",
        "\n",
        "  threshold = 0.0 #t \n",
        "  s = w0 +(w1*x1)+(w2*x2)\n",
        "  if s >= threshold:\n",
        "    result = 1 \n",
        "  else: \n",
        "    result = 0\n",
        "  print('output = {}  [s ={}]'.format(result,s))\n",
        "\n",
        "\n",
        "\n",
        "print(and_gate(0,0))\n",
        "print(and_gate(0,1))\n",
        "print(and_gate(1,0))\n",
        "print(and_gate(1,1))"
      ],
      "metadata": {
        "colab": {
          "base_uri": "https://localhost:8080/"
        },
        "id": "-pHqDFC3NK8B",
        "outputId": "b9e30a67-7f69-4fb6-98b8-dd091a17107c"
      },
      "execution_count": 4,
      "outputs": [
        {
          "output_type": "stream",
          "name": "stdout",
          "text": [
            "output = 0  [s =-0.5]\n",
            "None\n",
            "output = 1  [s =0.0]\n",
            "None\n",
            "output = 1  [s =0.0]\n",
            "None\n",
            "output = 1  [s =0.5]\n",
            "None\n"
          ]
        }
      ]
    },
    {
      "cell_type": "code",
      "source": [
        "#Workshop4: OR gate Neuron \n",
        "def or_gate(x1,x2):\n",
        "  w0 = -0.5 # bias\n",
        "  w1 = 0.1  #ใส่ค่าเอง\n",
        "  w2  = 0.1 #ใส่ค่าเอง\n",
        "\n",
        "  threshold = 0.0 #t \n",
        "  s = w0 +(w1*x1)+(w2*x2)\n",
        "  if s >= threshold:\n",
        "    result = 1 \n",
        "  else: \n",
        "    result = 0\n",
        "  print('output = {}  [s ={}]'.format(result,s))\n",
        "\n",
        "\n",
        "\n",
        "print(and_gate(0,0))\n",
        "print(and_gate(0,1))\n",
        "print(and_gate(1,0))\n",
        "print(and_gate(1,1))\n"
      ],
      "metadata": {
        "colab": {
          "base_uri": "https://localhost:8080/"
        },
        "id": "UkKgBxciOm2d",
        "outputId": "f872f800-19a2-4b66-c9d4-32d82b1abcc2"
      },
      "execution_count": 5,
      "outputs": [
        {
          "output_type": "stream",
          "name": "stdout",
          "text": [
            "output = 0  [s =-0.5]\n",
            "None\n",
            "output = 1  [s =0.0]\n",
            "None\n",
            "output = 1  [s =0.0]\n",
            "None\n",
            "output = 1  [s =0.5]\n",
            "None\n"
          ]
        }
      ]
    }
  ]
}